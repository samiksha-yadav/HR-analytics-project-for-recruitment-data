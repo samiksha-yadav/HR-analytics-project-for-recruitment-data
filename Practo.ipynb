{
 "cells": [
  {
   "cell_type": "markdown",
   "id": "b794708d",
   "metadata": {},
   "source": [
    "# READING DATASET"
   ]
  },
  {
   "cell_type": "markdown",
   "id": "ade05a5f",
   "metadata": {},
   "source": [
    "Now we are Presenting the code & methods for acquiring the data. Loading the data into appropriate format for analysis."
   ]
  },
  {
   "cell_type": "code",
   "execution_count": 1,
   "id": "831db784",
   "metadata": {},
   "outputs": [],
   "source": [
    "#importing the required libraries \n",
    "import pandas as pd\n",
    "from plotnine import ggplot\n",
    "import matplotlib.pyplot as plt\n",
    "import seaborn as sns\n",
    "import warnings\n",
    "warnings.filterwarnings('ignore')"
   ]
  },
  {
   "cell_type": "code",
   "execution_count": 2,
   "id": "36d24405",
   "metadata": {},
   "outputs": [
    {
     "data": {
      "text/html": [
       "<div>\n",
       "<style scoped>\n",
       "    .dataframe tbody tr th:only-of-type {\n",
       "        vertical-align: middle;\n",
       "    }\n",
       "\n",
       "    .dataframe tbody tr th {\n",
       "        vertical-align: top;\n",
       "    }\n",
       "\n",
       "    .dataframe thead th {\n",
       "        text-align: right;\n",
       "    }\n",
       "</style>\n",
       "<table border=\"1\" class=\"dataframe\">\n",
       "  <thead>\n",
       "    <tr style=\"text-align: right;\">\n",
       "      <th></th>\n",
       "      <th>attrition</th>\n",
       "      <th>performance_rating</th>\n",
       "      <th>sales_quota_pct</th>\n",
       "      <th>recruiting_source</th>\n",
       "    </tr>\n",
       "  </thead>\n",
       "  <tbody>\n",
       "    <tr>\n",
       "      <th>0</th>\n",
       "      <td>1</td>\n",
       "      <td>3</td>\n",
       "      <td>1.088190</td>\n",
       "      <td>Applied Online</td>\n",
       "    </tr>\n",
       "    <tr>\n",
       "      <th>1</th>\n",
       "      <td>0</td>\n",
       "      <td>3</td>\n",
       "      <td>2.394173</td>\n",
       "      <td>NaN</td>\n",
       "    </tr>\n",
       "    <tr>\n",
       "      <th>2</th>\n",
       "      <td>1</td>\n",
       "      <td>2</td>\n",
       "      <td>0.497530</td>\n",
       "      <td>Campus</td>\n",
       "    </tr>\n",
       "    <tr>\n",
       "      <th>3</th>\n",
       "      <td>0</td>\n",
       "      <td>2</td>\n",
       "      <td>2.513958</td>\n",
       "      <td>NaN</td>\n",
       "    </tr>\n",
       "    <tr>\n",
       "      <th>4</th>\n",
       "      <td>0</td>\n",
       "      <td>3</td>\n",
       "      <td>1.424789</td>\n",
       "      <td>Applied Online</td>\n",
       "    </tr>\n",
       "  </tbody>\n",
       "</table>\n",
       "</div>"
      ],
      "text/plain": [
       "   attrition  performance_rating  sales_quota_pct recruiting_source\n",
       "0          1                   3         1.088190    Applied Online\n",
       "1          0                   3         2.394173               NaN\n",
       "2          1                   2         0.497530            Campus\n",
       "3          0                   2         2.513958               NaN\n",
       "4          0                   3         1.424789    Applied Online"
      ]
     },
     "execution_count": 2,
     "metadata": {},
     "output_type": "execute_result"
    }
   ],
   "source": [
    "#using pandas library and 'read_csv' function to read csv file \n",
    "dataf=pd.read_csv(\"Recruitment_Data.csv\")\n",
    "#examine head \n",
    "dataf.head(5)"
   ]
  },
  {
   "cell_type": "code",
   "execution_count": 3,
   "id": "01e7852b",
   "metadata": {},
   "outputs": [
    {
     "data": {
      "text/plain": [
       "(446, 4)"
      ]
     },
     "execution_count": 3,
     "metadata": {},
     "output_type": "execute_result"
    }
   ],
   "source": [
    "#checking number of rows in dataset\n",
    "dataf.shape"
   ]
  },
  {
   "cell_type": "code",
   "execution_count": 4,
   "id": "d3ea7cd2",
   "metadata": {},
   "outputs": [
    {
     "name": "stdout",
     "output_type": "stream",
     "text": [
      "<class 'pandas.core.frame.DataFrame'>\n",
      "RangeIndex: 446 entries, 0 to 445\n",
      "Data columns (total 4 columns):\n",
      " #   Column              Non-Null Count  Dtype  \n",
      "---  ------              --------------  -----  \n",
      " 0   attrition           446 non-null    int64  \n",
      " 1   performance_rating  446 non-null    int64  \n",
      " 2   sales_quota_pct     446 non-null    float64\n",
      " 3   recruiting_source   241 non-null    object \n",
      "dtypes: float64(1), int64(2), object(1)\n",
      "memory usage: 14.1+ KB\n"
     ]
    }
   ],
   "source": [
    "#to find the information about the data\n",
    "dataf.info()"
   ]
  },
  {
   "cell_type": "markdown",
   "id": "714c132b",
   "metadata": {},
   "source": [
    "# Understanding and Cleaning Data"
   ]
  },
  {
   "cell_type": "markdown",
   "id": "9c41ec3d",
   "metadata": {},
   "source": [
    "Presenting the code and methods for acquiring the data. Loading the data into appropriate format for analysis. Explaining the process and results"
   ]
  },
  {
   "cell_type": "code",
   "execution_count": 5,
   "id": "0381046c",
   "metadata": {},
   "outputs": [
    {
     "name": "stdout",
     "output_type": "stream",
     "text": [
      "recruiting_source     45.96\n",
      "attrition              0.00\n",
      "performance_rating     0.00\n",
      "sales_quota_pct        0.00\n",
      "dtype: float64\n"
     ]
    }
   ],
   "source": [
    "#looking to find out first what columns have null values\n",
    "#using 'isnull' function will show us how many nulls are found in each column in dataset\n",
    "print(round((100*dataf.isnull().mean()).sort_values(ascending=False),2))\n"
   ]
  },
  {
   "cell_type": "code",
   "execution_count": 6,
   "id": "17ee1327",
   "metadata": {},
   "outputs": [
    {
     "data": {
      "text/html": [
       "<div>\n",
       "<style scoped>\n",
       "    .dataframe tbody tr th:only-of-type {\n",
       "        vertical-align: middle;\n",
       "    }\n",
       "\n",
       "    .dataframe tbody tr th {\n",
       "        vertical-align: top;\n",
       "    }\n",
       "\n",
       "    .dataframe thead th {\n",
       "        text-align: right;\n",
       "    }\n",
       "</style>\n",
       "<table border=\"1\" class=\"dataframe\">\n",
       "  <thead>\n",
       "    <tr style=\"text-align: right;\">\n",
       "      <th></th>\n",
       "      <th>attrition</th>\n",
       "      <th>performance_rating</th>\n",
       "      <th>sales_quota_pct</th>\n",
       "    </tr>\n",
       "  </thead>\n",
       "  <tbody>\n",
       "    <tr>\n",
       "      <th>count</th>\n",
       "      <td>446.000000</td>\n",
       "      <td>446.000000</td>\n",
       "      <td>446.000000</td>\n",
       "    </tr>\n",
       "    <tr>\n",
       "      <th>mean</th>\n",
       "      <td>0.213004</td>\n",
       "      <td>2.894619</td>\n",
       "      <td>1.082607</td>\n",
       "    </tr>\n",
       "    <tr>\n",
       "      <th>std</th>\n",
       "      <td>0.409891</td>\n",
       "      <td>0.683755</td>\n",
       "      <td>0.710042</td>\n",
       "    </tr>\n",
       "    <tr>\n",
       "      <th>min</th>\n",
       "      <td>0.000000</td>\n",
       "      <td>1.000000</td>\n",
       "      <td>-0.710827</td>\n",
       "    </tr>\n",
       "    <tr>\n",
       "      <th>25%</th>\n",
       "      <td>0.000000</td>\n",
       "      <td>2.000000</td>\n",
       "      <td>0.584444</td>\n",
       "    </tr>\n",
       "    <tr>\n",
       "      <th>50%</th>\n",
       "      <td>0.000000</td>\n",
       "      <td>3.000000</td>\n",
       "      <td>1.070143</td>\n",
       "    </tr>\n",
       "    <tr>\n",
       "      <th>75%</th>\n",
       "      <td>0.000000</td>\n",
       "      <td>3.000000</td>\n",
       "      <td>1.532488</td>\n",
       "    </tr>\n",
       "    <tr>\n",
       "      <th>max</th>\n",
       "      <td>1.000000</td>\n",
       "      <td>5.000000</td>\n",
       "      <td>3.666740</td>\n",
       "    </tr>\n",
       "  </tbody>\n",
       "</table>\n",
       "</div>"
      ],
      "text/plain": [
       "        attrition  performance_rating  sales_quota_pct\n",
       "count  446.000000          446.000000       446.000000\n",
       "mean     0.213004            2.894619         1.082607\n",
       "std      0.409891            0.683755         0.710042\n",
       "min      0.000000            1.000000        -0.710827\n",
       "25%      0.000000            2.000000         0.584444\n",
       "50%      0.000000            3.000000         1.070143\n",
       "75%      0.000000            3.000000         1.532488\n",
       "max      1.000000            5.000000         3.666740"
      ]
     },
     "execution_count": 6,
     "metadata": {},
     "output_type": "execute_result"
    }
   ],
   "source": [
    "#to find description of the numerical data in the DataFrame.\n",
    "dataf.describe()"
   ]
  },
  {
   "cell_type": "code",
   "execution_count": 7,
   "id": "e805bc7f",
   "metadata": {},
   "outputs": [
    {
     "data": {
      "text/plain": [
       "count                241\n",
       "unique                 4\n",
       "top       Applied Online\n",
       "freq                 130\n",
       "Name: recruiting_source, dtype: object"
      ]
     },
     "execution_count": 7,
     "metadata": {},
     "output_type": "execute_result"
    }
   ],
   "source": [
    "#using describe function to see details of recruiting source\n",
    "dataf[\"recruiting_source\"].describe()"
   ]
  },
  {
   "cell_type": "code",
   "execution_count": 8,
   "id": "e59f9dd4",
   "metadata": {},
   "outputs": [
    {
     "data": {
      "text/plain": [
       "array(['Applied Online', nan, 'Campus', 'Referral', 'Search Firm'],\n",
       "      dtype=object)"
      ]
     },
     "execution_count": 8,
     "metadata": {},
     "output_type": "execute_result"
    }
   ],
   "source": [
    "dataf[\"recruiting_source\"].unique()"
   ]
  },
  {
   "cell_type": "code",
   "execution_count": 9,
   "id": "478a2ae0",
   "metadata": {},
   "outputs": [
    {
     "data": {
      "text/plain": [
       "Applied Online    130\n",
       "Campus             56\n",
       "Referral           45\n",
       "Search Firm        10\n",
       "Name: recruiting_source, dtype: int64"
      ]
     },
     "execution_count": 9,
     "metadata": {},
     "output_type": "execute_result"
    }
   ],
   "source": [
    "dataf[\"recruiting_source\"].value_counts()"
   ]
  },
  {
   "cell_type": "markdown",
   "id": "3bf1cebf",
   "metadata": {},
   "source": [
    "# Applied online is the most common way of recruitment."
   ]
  },
  {
   "cell_type": "code",
   "execution_count": 10,
   "id": "f56c5558",
   "metadata": {},
   "outputs": [
    {
     "data": {
      "image/png": "[encoded data removed]",
      "text/plain": [
       "<Figure size 640x480 with 1 Axes>"
      ]
     },
     "metadata": {},
     "output_type": "display_data"
    },
    {
     "data": {
      "text/plain": [
       "<ggplot: (142006569039)>"
      ]
     },
     "execution_count": 10,
     "metadata": {},
     "output_type": "execute_result"
    }
   ],
   "source": [
    "#importing ggplot to make plot for the count of recruiting_source\n",
    "from plotnine.data import mpg\n",
    "from plotnine import ggplot, aes, geom_bar\n",
    "\n",
    "ggplot(dataf) + aes(x=\"recruiting_source\") + geom_bar()"
   ]
  },
  {
   "cell_type": "code",
   "execution_count": 13,
   "id": "ff784a3e",
   "metadata": {},
   "outputs": [
    {
     "data": {
      "text/plain": [
       "recruiting_source\n",
       "Applied Online    1.058590\n",
       "Campus            0.908035\n",
       "Referral          1.023198\n",
       "Search Firm       0.886960\n",
       "Name: sales_quota_pct, dtype: float64"
      ]
     },
     "execution_count": 13,
     "metadata": {},
     "output_type": "execute_result"
    }
   ],
   "source": [
    "#Printing the average Sales Number grouped by Recruiting Source\n",
    "avg_sales = dataf.groupby(\"recruiting_source\")[\"sales_quota_pct\"].mean()\n",
    "avg_sales"
   ]
  },
  {
   "cell_type": "markdown",
   "id": "248700d7",
   "metadata": {},
   "source": [
    "# After grouping by recruiting source we can see that maximum average sales is from applied online and referral category."
   ]
  },
  {
   "cell_type": "code",
   "execution_count": 17,
   "id": "8c81a8b4",
   "metadata": {},
   "outputs": [
    {
     "data": {
      "image/png": "[encoded data removed]",
      "text/plain": [
       "<Figure size 432x288 with 1 Axes>"
      ]
     },
     "metadata": {
      "needs_background": "light"
     },
     "output_type": "display_data"
    }
   ],
   "source": [
    "#Printing the graph of Sales Number grouped by Recruiting Source\n",
    "sns.barplot(data=dataf, x='recruiting_source', y='sales_quota_pct',ci=None ,palette='flare')\n",
    "plt.show()"
   ]
  },
  {
   "cell_type": "code",
   "execution_count": 18,
   "id": "5339de42",
   "metadata": {},
   "outputs": [
    {
     "data": {
      "text/plain": [
       "recruiting_source\n",
       "Applied Online    0.246154\n",
       "Campus            0.285714\n",
       "Referral          0.333333\n",
       "Search Firm       0.500000\n",
       "Name: attrition, dtype: float64"
      ]
     },
     "execution_count": 18,
     "metadata": {},
     "output_type": "execute_result"
    }
   ],
   "source": [
    "#Printing the average Attrition Number grouped by Recruiting Source\n",
    "avg_attrition_number = dataf.groupby(\"recruiting_source\")[\"attrition\"].mean()\n",
    "avg_attrition_number"
   ]
  },
  {
   "cell_type": "markdown",
   "id": "1f19cf6e",
   "metadata": {},
   "source": [
    "# After grouping by recruiting source we can see that minimum attrition is done by applied online category."
   ]
  },
  {
   "cell_type": "code",
   "execution_count": 19,
   "id": "917cb39e",
   "metadata": {},
   "outputs": [
    {
     "data": {
      "image/png": "[encoded data removed]",
      "text/plain": [
       "<Figure size 432x288 with 1 Axes>"
      ]
     },
     "metadata": {
      "needs_background": "light"
     },
     "output_type": "display_data"
    }
   ],
   "source": [
    "#Printing the graph of Attrition Number grouped by Recruiting Source\n",
    "sns.barplot(data=dataf, x='recruiting_source', y='attrition',ci=None, palette='flare')\n",
    "plt.show()"
   ]
  },
  {
   "cell_type": "code",
   "execution_count": 20,
   "id": "8eb43eef",
   "metadata": {},
   "outputs": [
    {
     "data": {
      "image/png": "[encoded data removed]",
      "text/plain": [
       "<Figure size 432x288 with 1 Axes>"
      ]
     },
     "metadata": {
      "needs_background": "light"
     },
     "output_type": "display_data"
    }
   ],
   "source": [
    "#bar plot to see recruiting sources that have high Sales numbers and low Attrition numbers\n",
    "sns.barplot(data=dataf, x='recruiting_source', y='sales_quota_pct',hue=\"attrition\",ci=None)\n",
    "plt.show()"
   ]
  },
  {
   "cell_type": "markdown",
   "id": "b41ed1b8",
   "metadata": {},
   "source": [
    "# After looking the graph we can see that applied online and referral recruiting sources have high Sales numbers and low Attrition numbers."
   ]
  },
  {
   "cell_type": "code",
   "execution_count": null,
   "id": "fdac9c32",
   "metadata": {},
   "outputs": [],
   "source": []
  },
  {
   "cell_type": "code",
   "execution_count": null,
   "id": "ee6c8f41",
   "metadata": {},
   "outputs": [],
   "source": []
  }
 ],
 "metadata": {
  "kernelspec": {
   "display_name": "Python 3 (ipykernel)",
   "language": "python",
   "name": "python3"
  },
  "language_info": {
   "codemirror_mode": {
    "name": "ipython",
    "version": 3
   },
   "file_extension": ".py",
   "mimetype": "text/x-python",
   "name": "python",
   "nbconvert_exporter": "python",
   "pygments_lexer": "ipython3",
   "version": "3.9.12"
  }
 },
 "nbformat": 4,
 "nbformat_minor": 5
}
